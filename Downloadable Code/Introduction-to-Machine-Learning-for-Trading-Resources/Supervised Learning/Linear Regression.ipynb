{
 "cells": [
  {
   "cell_type": "markdown",
   "metadata": {},
   "source": [
    "# Notebook Instructions\n",
    "\n",
    "1. All the <u>code and data files</u> used in this course are available in the downloadable unit of the <u>last section of this course</u>.\n",
    "2. You can run the notebook document sequentially (one cell at a time) by pressing **Shift + Enter**. \n",
    "3. While a cell is running, a [*] is shown on the left. After the cell is run, the output will appear on the next line.\n",
    "\n",
    "This course is based on specific versions of Python packages. You can find the details of the packages in <a href='https://quantra.quantinsti.com/quantra-notebook' target=\"_blank\" >this manual</a>."
   ]
  },
  {
   "cell_type": "markdown",
   "metadata": {},
   "source": [
    "# Linear Regression\n",
    "Linear Regression is one of the most well-known algorithms in machine learning and statistics. Here, you\n",
    "will be given a brief overview of how it works and how you can use it in your machine learning problems.\n",
    "Linear Regression was developed under the field of statistics to study the relationship between input and\n",
    "output numerical variables but has been borrowed by machine learning to make predictions based on a\n",
    "linear regression equation.\n",
    "\n",
    "The mathematical representation of linear regression is a linear equation that combines a specific set of\n",
    "input data (X) to predict the output value (y) for that set of input values. The linear equation assigns a factor\n",
    "to each set of input values, which are called the coefficients represented by the Greek letter Beta (β). The\n",
    "equation mentioned below represents a linear regression model with two sets of input values, $x_{1}$ and $x_{2}$.\n",
    "Ahead, y represents the output of the model, whereas $β_{0}$ , $β_{1}$ and $β_{2}$ are the coefficients of the linear\n",
    "equation.\n",
    "\n",
    "\n",
    "$$ y = β_{0} \\;+ \\;β_{1} * \\;X_{1} + \\;β_{2} * \\;X_{2}$$\n",
    "\n",
    "    \n",
    "In this notebook, you will perform the following steps:\n",
    "\n",
    "1. [Import Data](#library)\n",
    "\n",
    "\n",
    "2. [Independent Variables](#x)\n",
    "\n",
    "\n",
    "3. [Dependent Variable](#y)\n",
    "\n",
    "\n",
    "4. [Regression Model](#Model)\n",
    "\n",
    "\n",
    "5. [Mean Square Error](#Error)\n",
    "\n",
    "\n",
    "6. [Plot Regression Line](#plot)    "
   ]
  },
  {
   "cell_type": "markdown",
   "metadata": {},
   "source": [
    "<a id='library'></a> \n",
    "\n",
    "## Import Data\n",
    "\n",
    "<a href=\"https://scikit-learn.org/stable/modules/generated/sklearn.linear_model.LinearRegression.html\" target=\"_blank\"> Scikit-Learn</a> library is used to perform the linear regression and has some of very common datasets to play with."
   ]
  },
  {
   "cell_type": "code",
   "execution_count": 1,
   "metadata": {},
   "outputs": [],
   "source": [
    "# Import numpy\n",
    "import numpy as np\n",
    "\n",
    "# Import matplotlib as an alias plt and set the style\n",
    "import matplotlib.pyplot as plt\n",
    "%matplotlib inline\n",
    "plt.style.use('seaborn-darkgrid')\n",
    "\n",
    "# Import linear_model and dataset from sklearn\n",
    "from sklearn import linear_model, datasets\n",
    "\n",
    "# Load the diabetes dataset\n",
    "diabetes = datasets.load_diabetes()"
   ]
  },
  {
   "cell_type": "markdown",
   "metadata": {},
   "source": [
    "<a id='x'></a> \n",
    "\n",
    "## Independent Variables\n",
    "\n",
    "Independent variables are used to predict the value of dependent variable. For illustration purposes, we will use only one feature i.e. only one column as an independent variable."
   ]
  },
  {
   "cell_type": "code",
   "execution_count": 2,
   "metadata": {},
   "outputs": [
    {
     "data": {
      "text/plain": [
       "array([[ 0.07786339],\n",
       "       [-0.03961813]])"
      ]
     },
     "execution_count": 2,
     "metadata": {},
     "output_type": "execute_result"
    }
   ],
   "source": [
    "# Use only one feature as a independent variable\n",
    "diabetes_X = diabetes.data[:, np.newaxis, 2]\n",
    "\n",
    "# Split the independent data into training/testing sets\n",
    "diabetes_X_train = diabetes_X[:-20]\n",
    "diabetes_X_test = diabetes_X[-20:]\n",
    "diabetes_X_test[:2]"
   ]
  },
  {
   "cell_type": "markdown",
   "metadata": {},
   "source": [
    "<a id='y'></a> \n",
    "\n",
    "## Dependent Variable\n",
    "\n",
    "Dependent/target variable is the outcome which the machine learning model will predict based on the independent variables.\n",
    "We will split the dependent variable into train and test dataset. Train sample will be used along with the independent dataset X, and the test sample will be compared with predicted values."
   ]
  },
  {
   "cell_type": "code",
   "execution_count": 3,
   "metadata": {},
   "outputs": [
    {
     "data": {
      "text/plain": [
       "array([233.,  91., 111., 152., 120.,  67., 310.,  94., 183.,  66., 173.,\n",
       "        72.,  49.,  64.,  48., 178., 104., 132., 220.,  57.])"
      ]
     },
     "execution_count": 3,
     "metadata": {},
     "output_type": "execute_result"
    }
   ],
   "source": [
    "# Dependent variable \n",
    "diabetes_y = diabetes.target\n",
    "\n",
    "# Split the dependent data into training/testing sets\n",
    "diabetes_y_train = diabetes_y[:-20]\n",
    "diabetes_y_test = diabetes_y[-20:]\n",
    "diabetes_y_test"
   ]
  },
  {
   "cell_type": "markdown",
   "metadata": {},
   "source": [
    "<a id='Model'></a> \n",
    "\n",
    "## Regression Model \n",
    "We will use the `linear_model` function of the scikit-learn library to create a linear regression model."
   ]
  },
  {
   "cell_type": "code",
   "execution_count": 4,
   "metadata": {},
   "outputs": [
    {
     "data": {
      "text/plain": [
       "LinearRegression(copy_X=True, fit_intercept=True, n_jobs=None, normalize=False)"
      ]
     },
     "execution_count": 4,
     "metadata": {},
     "output_type": "execute_result"
    }
   ],
   "source": [
    "# Create linear regression object\n",
    "regr = linear_model.LinearRegression()\n",
    "\n",
    "# Train the model using the training sets\n",
    "regr.fit(diabetes_X_train, diabetes_y_train)"
   ]
  },
  {
   "cell_type": "markdown",
   "metadata": {},
   "source": [
    "<a id='Error'></a> \n",
    "\n",
    "## Mean Squared Error\n",
    "\n",
    "Mean square error (MSE) is the average of the square of the errors. The larger the number, the larger the error. "
   ]
  },
  {
   "cell_type": "code",
   "execution_count": 5,
   "metadata": {},
   "outputs": [
    {
     "name": "stdout",
     "output_type": "stream",
     "text": [
      "Mean squared error: 2548.072399\n"
     ]
    }
   ],
   "source": [
    "# Mean squared error\n",
    "print('Mean squared error: %2f' %\n",
    "      np.mean((regr.predict(diabetes_X_test)-diabetes_y_test)**2))"
   ]
  },
  {
   "cell_type": "markdown",
   "metadata": {},
   "source": [
    "<a id='plot'></a> \n",
    "\n",
    "## Plot Regression Line\n",
    "We will plot the regression line for our model to get a visual representation."
   ]
  },
  {
   "cell_type": "code",
   "execution_count": 6,
   "metadata": {
    "scrolled": false
   },
   "outputs": [
    {
     "name": "stdout",
     "output_type": "stream",
     "text": [
      "Variance score: 0.472575\n"
     ]
    },
    {
     "data": {
      "image/png": "[encoded data removed]",
      "text/plain": [
       "<Figure size 720x504 with 1 Axes>"
      ]
     },
     "metadata": {
      "needs_background": "light"
     },
     "output_type": "display_data"
    }
   ],
   "source": [
    "# Calculate variance score\n",
    "print('Variance score: %2f' % regr.score(diabetes_X_test, diabetes_y_test))\n",
    "\n",
    "# Plot outputs\n",
    "plt.figure(figsize=(10, 7))\n",
    "plt.scatter(diabetes_X_test, diabetes_y_test, color='black')\n",
    "plt.plot(diabetes_X_test, regr.predict(\n",
    "    diabetes_X_test), color='blue', linewidth=3)\n",
    "plt.title('Linear Regression Model', fontsize=14)\n",
    "plt.xlabel('Independent Variable', fontsize=12)\n",
    "plt.ylabel('Dependent Variable', fontsize=12)\n",
    "plt.show()"
   ]
  },
  {
   "cell_type": "markdown",
   "metadata": {},
   "source": [
    "The above figure shows the regression line that the model has predicted. And the actual data points used to predict. The model's variance score is 0.4 only, which means the prediction is not too strong and the model under fits the points. The variance score of 1 represents perfect fitting.\n",
    "\n",
    "#### Additional Reading\n",
    "You can read this <a href=\"https://blog.quantinsti.com/gold-price-prediction-using-machine-learning-python/\" target=\"_blank\">article</a> to predict the Gold price using the linear regression model.\n",
    "\n",
    "<br><br>"
   ]
  }
 ],
 "metadata": {
  "kernelspec": {
   "display_name": "Python 3",
   "language": "python",
   "name": "python3"
  },
  "language_info": {
   "codemirror_mode": {
    "name": "ipython",
    "version": 3
   },
   "file_extension": ".py",
   "mimetype": "text/x-python",
   "name": "python",
   "nbconvert_exporter": "python",
   "pygments_lexer": "ipython3",
   "version": "3.7.4"
  }
 },
 "nbformat": 4,
 "nbformat_minor": 4
}
