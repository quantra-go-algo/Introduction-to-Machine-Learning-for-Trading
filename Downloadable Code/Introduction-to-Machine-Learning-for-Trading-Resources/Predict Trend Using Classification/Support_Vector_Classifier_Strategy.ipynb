{
  "cells": [
    {
      "cell_type": "markdown",
      "metadata": {
        "id": "25zd7KfLxw5G"
      },
      "source": [
        "# Notebook Instructions\n",
        "\n",
        "1. All the <u>code and data files</u> used in this course are available in the downloadable unit of the <u>last section of this course</u>.\n",
        "2. You can run the notebook document sequentially (one cell at a time) by pressing **shift + enter**. \n",
        "3. While a cell is running, a [*] is shown on the left. After the cell is run, the output will appear on the next line.\n",
        "\n",
        "This course is based on specific versions of python packages. You can find the details of the packages in <a href='https://quantra.quantinsti.com/quantra-notebook' target=\"_blank\" >this manual</a>."
      ]
    },
    {
      "cell_type": "markdown",
      "metadata": {
        "id": "im2qJdNFxw5J"
      },
      "source": [
        "# Support Vector Classifier Strategy Code\n",
        "\n",
        "In this notebook, you will learn to create a Support Vector Classifier (SVC) algorithm on S&P 500. \n",
        "\n",
        "SVC is a type of supervised machine learning algorithm. Let's understand SVC with the help of an example. Suppose we have images of pens and pencils and we want the machine to identify which is which. We will train the algorithm by giving the algorithm a lot of labelled images of pens and pencils so that algorithm can learn the specific features of pens and pencils. After the algorithm has been trained we can use it to identify the unlabeled pictures of pens and pencils. \n",
        "\n",
        "![title](https://d2a032ejo53cab.cloudfront.net/Glossary/kGHBSe4T/SVMdiagram.png \"backtest\")\n",
        "\n",
        "The algorithm does this by drawing hyperplanes between the data points. The hyperplane can be 1 to n-dimensional depending on the number of features we are using to classify the data. If we use two features then the hyperplane will just be a line. In the above example, we used two features (X and Y) and the hyperplane divided the the inputs into two sets. If we use three features then the hyperplane will be a 2D plane. The dimenstions of the hyper plane = (features - 1).\n",
        "\n",
        "To learn more about the SVC check this Quantra course on <a href=\"https://quantra.quantinsti.com/course/trading-machine-learning-classification-svm\" target=\"_blank\"> Trading with Machine Learning: Classification and SVM</a>. \n",
        "\n",
        "In this notebook, you will perform the following steps:\n",
        "\n",
        "1. [Import the libraries](#import_the_libraries)\n",
        "2. [Read S&P 500 Data](#read_s&p_500_data)\n",
        "3. [Define the explanatory variables](#define_the_explanatory_variables)\n",
        "3. [Define the target variables](#define_the_target_variable)\n",
        "4. [Split the data into train and test](#split_the_data_into_train_and_test)\n",
        "5. [Support Vector Classifier (SVC)](#support_vector_classifier)\n",
        "6. [Classifier accuracy](#classifier_accuracy)\n",
        "7. [Strategy implementation](#strategy_implementation)\n",
        "\n",
        "<a id='Import the libraries'></a> \n",
        "## Import the libraries"
      ]
    },
    {
      "cell_type": "code",
      "execution_count": null,
      "metadata": {
        "id": "Je820YKxxw5K"
      },
      "outputs": [],
      "source": [
        "# Machine learning\n",
        "from sklearn.svm import SVC\n",
        "from sklearn.metrics import accuracy_score\n",
        "\n",
        "# For data manipulation\n",
        "import pandas as pd\n",
        "import numpy as np\n",
        "\n",
        "# To plot\n",
        "import matplotlib.pyplot as plt\n",
        "plt.style.use('seaborn-darkgrid')\n",
        "\n",
        "# To ignore warnings\n",
        "import warnings\n",
        "warnings.filterwarnings(\"ignore\")"
      ]
    },
    {
      "cell_type": "markdown",
      "metadata": {
        "id": "_SWePYO1xw5M"
      },
      "source": [
        "<a id='Read S&P 500 Data'></a> \n",
        "## Read S&P 500 Data\n",
        "The OHLC data for the index is stored in the `SPY.csv` file in the `data` folder. To read a CSV file, you can use `read_csv` method of `pandas`. The syntax is shown below.\n",
        "\n",
        "Syntax: \n",
        "```python\n",
        "import pandas as pd\n",
        "pd.read_csv(filename, index_col)\n",
        "```\n",
        "\n",
        "Parameters: \n",
        "\n",
        "1. **filename**: Name of the file in the string format\n",
        "2. **index_col**: The column name or number that you want to set as index (index number begins from 0)\n",
        "\n",
        "We will read the S&P 500 data from CSV file."
      ]
    },
    {
      "cell_type": "code",
      "execution_count": null,
      "metadata": {
        "id": "fDIMMGNjxw5M",
        "outputId": "3ff5f487-e327-40cc-8b5e-06e80d5c15c4"
      },
      "outputs": [
        {
          "data": {
            "text/html": [
              "<div>\n",
              "<style scoped>\n",
              "    .dataframe tbody tr th:only-of-type {\n",
              "        vertical-align: middle;\n",
              "    }\n",
              "\n",
              "    .dataframe tbody tr th {\n",
              "        vertical-align: top;\n",
              "    }\n",
              "\n",
              "    .dataframe thead th {\n",
              "        text-align: right;\n",
              "    }\n",
              "</style>\n",
              "<table border=\"1\" class=\"dataframe\">\n",
              "  <thead>\n",
              "    <tr style=\"text-align: right;\">\n",
              "      <th></th>\n",
              "      <th>Open</th>\n",
              "      <th>High</th>\n",
              "      <th>Low</th>\n",
              "      <th>Close</th>\n",
              "      <th>Volume</th>\n",
              "    </tr>\n",
              "    <tr>\n",
              "      <th>Date</th>\n",
              "      <th></th>\n",
              "      <th></th>\n",
              "      <th></th>\n",
              "      <th></th>\n",
              "      <th></th>\n",
              "    </tr>\n",
              "  </thead>\n",
              "  <tbody>\n",
              "    <tr>\n",
              "      <th>2018-12-31</th>\n",
              "      <td>2498.939941</td>\n",
              "      <td>2509.239990</td>\n",
              "      <td>2482.820068</td>\n",
              "      <td>2506.850098</td>\n",
              "      <td>3442870000</td>\n",
              "    </tr>\n",
              "    <tr>\n",
              "      <th>2019-01-02</th>\n",
              "      <td>2476.959961</td>\n",
              "      <td>2519.489990</td>\n",
              "      <td>2467.469971</td>\n",
              "      <td>2510.030029</td>\n",
              "      <td>3733160000</td>\n",
              "    </tr>\n",
              "    <tr>\n",
              "      <th>2019-01-03</th>\n",
              "      <td>2491.919922</td>\n",
              "      <td>2493.139893</td>\n",
              "      <td>2443.959961</td>\n",
              "      <td>2447.889893</td>\n",
              "      <td>3822860000</td>\n",
              "    </tr>\n",
              "    <tr>\n",
              "      <th>2019-01-04</th>\n",
              "      <td>2474.330078</td>\n",
              "      <td>2538.070068</td>\n",
              "      <td>2474.330078</td>\n",
              "      <td>2531.939941</td>\n",
              "      <td>4213410000</td>\n",
              "    </tr>\n",
              "    <tr>\n",
              "      <th>2019-01-07</th>\n",
              "      <td>2535.610107</td>\n",
              "      <td>2566.159912</td>\n",
              "      <td>2524.560059</td>\n",
              "      <td>2549.689941</td>\n",
              "      <td>4104710000</td>\n",
              "    </tr>\n",
              "  </tbody>\n",
              "</table>\n",
              "</div>"
            ],
            "text/plain": [
              "                   Open         High          Low        Close      Volume\n",
              "Date                                                                      \n",
              "2018-12-31  2498.939941  2509.239990  2482.820068  2506.850098  3442870000\n",
              "2019-01-02  2476.959961  2519.489990  2467.469971  2510.030029  3733160000\n",
              "2019-01-03  2491.919922  2493.139893  2443.959961  2447.889893  3822860000\n",
              "2019-01-04  2474.330078  2538.070068  2474.330078  2531.939941  4213410000\n",
              "2019-01-07  2535.610107  2566.159912  2524.560059  2549.689941  4104710000"
            ]
          },
          "execution_count": 2,
          "metadata": {},
          "output_type": "execute_result"
        }
      ],
      "source": [
        "# The data is stored in the directory 'data'\n",
        "path = '../data/'\n",
        "\n",
        "# Read the csv file using read_csv method of pandas\n",
        "df = pd.read_csv(path + 'SPY.csv', index_col=0)\n",
        "\n",
        "# Convert index to datetime format\n",
        "df.index = pd.to_datetime(df.index)\n",
        "\n",
        "# Print the first five rows \n",
        "df.head()"
      ]
    },
    {
      "cell_type": "markdown",
      "metadata": {
        "id": "PyF1TW1Cxw5N"
      },
      "source": [
        "<a id='Define the explanatory variables'></a> \n",
        "## Define the explanatory variables\n",
        "\n",
        "Explanatory or independent variables are used to predict the value. The `X` is a dataset that holds the features that SVC algorithm will use as independent variables for prediction. The `X` consists of variables such as `Open - Close` and `High - Low`. These can be understood as indicators based on which the algorithm will predict tomorrow's trend. The choice of using `Open - Close` and `High - Low`as features is arbitrary. Feel free to add more features and see the performance."
      ]
    },
    {
      "cell_type": "code",
      "execution_count": null,
      "metadata": {
        "id": "QbyWvgJkxw5N",
        "outputId": "f06043e9-e83c-40ed-c81d-cfaee6c31488"
      },
      "outputs": [
        {
          "data": {
            "text/html": [
              "<div>\n",
              "<style scoped>\n",
              "    .dataframe tbody tr th:only-of-type {\n",
              "        vertical-align: middle;\n",
              "    }\n",
              "\n",
              "    .dataframe tbody tr th {\n",
              "        vertical-align: top;\n",
              "    }\n",
              "\n",
              "    .dataframe thead th {\n",
              "        text-align: right;\n",
              "    }\n",
              "</style>\n",
              "<table border=\"1\" class=\"dataframe\">\n",
              "  <thead>\n",
              "    <tr style=\"text-align: right;\">\n",
              "      <th></th>\n",
              "      <th>Open-Close</th>\n",
              "      <th>High-Low</th>\n",
              "    </tr>\n",
              "    <tr>\n",
              "      <th>Date</th>\n",
              "      <th></th>\n",
              "      <th></th>\n",
              "    </tr>\n",
              "  </thead>\n",
              "  <tbody>\n",
              "    <tr>\n",
              "      <th>2018-12-31</th>\n",
              "      <td>-7.910156</td>\n",
              "      <td>26.419922</td>\n",
              "    </tr>\n",
              "    <tr>\n",
              "      <th>2019-01-02</th>\n",
              "      <td>-33.070068</td>\n",
              "      <td>52.020020</td>\n",
              "    </tr>\n",
              "    <tr>\n",
              "      <th>2019-01-03</th>\n",
              "      <td>44.030029</td>\n",
              "      <td>49.179932</td>\n",
              "    </tr>\n",
              "    <tr>\n",
              "      <th>2019-01-04</th>\n",
              "      <td>-57.609863</td>\n",
              "      <td>63.739990</td>\n",
              "    </tr>\n",
              "    <tr>\n",
              "      <th>2019-01-07</th>\n",
              "      <td>-14.079834</td>\n",
              "      <td>41.599854</td>\n",
              "    </tr>\n",
              "  </tbody>\n",
              "</table>\n",
              "</div>"
            ],
            "text/plain": [
              "            Open-Close   High-Low\n",
              "Date                             \n",
              "2018-12-31   -7.910156  26.419922\n",
              "2019-01-02  -33.070068  52.020020\n",
              "2019-01-03   44.030029  49.179932\n",
              "2019-01-04  -57.609863  63.739990\n",
              "2019-01-07  -14.079834  41.599854"
            ]
          },
          "execution_count": 3,
          "metadata": {},
          "output_type": "execute_result"
        }
      ],
      "source": [
        "# Create predictor variables\n",
        "df['Open-Close'] = df.Open - df.Close\n",
        "df['High-Low'] = df.High - df.Low\n",
        "\n",
        "# Store all predictor variables in a variable X\n",
        "X = df[['Open-Close', 'High-Low']]\n",
        "X.head()"
      ]
    },
    {
      "cell_type": "markdown",
      "metadata": {
        "id": "gMqQcuUaxw5O"
      },
      "source": [
        "<a id='Define the target variable'></a> \n",
        "## Define the target variable\n",
        "\n",
        "Target variable is the outcome which the machine learning model will predict based on the explanatory variables. `y` is a target dataset storing the correct trading signal which the machine learning algorithm will try to predict. If tomorrow's price is greater than today's price then we will buy the S&P 500 index, else we will have no position in the S&P 500 index. We will store `1` for a buy signal and `0` for a no position in `y`.\n",
        "\n",
        "We use `where()` function from NumPy to do this.\n",
        "\n",
        "Syntax:\n",
        "```python\n",
        "import numpy as np\n",
        "np.where(condition, value_if_true, value_if_false) \n",
        "```\n",
        "Parameters: \n",
        "\n",
        "1. **Condition**: Condition to check\n",
        "2. **value_if_true**: Value if the condition is satisfied \n",
        "3. **value_if_false**: Value If the condition is not satisfied"
      ]
    },
    {
      "cell_type": "code",
      "execution_count": null,
      "metadata": {
        "id": "HbUqrMIixw5P",
        "outputId": "868c6c30-7009-41ae-f0b5-f7a98925a4be"
      },
      "outputs": [
        {
          "data": {
            "text/plain": [
              "array([1, 0, 1, 1, 1, 1, 1, 0, 0, 1, 1, 1, 1, 0, 1, 1, 1, 0, 0, 1, 1, 1,\n",
              "       1, 1, 0, 0, 1, 1, 1, 1, 0, 1, 1, 1, 0, 1, 1, 0, 0, 0, 1, 0, 0, 0,\n",
              "       0, 0, 1, 1, 1, 0, 1, 1, 0, 0, 1, 0, 0, 1, 0, 1, 1, 1, 1, 1, 1, 1,\n",
              "       1, 0, 1, 1, 1, 0, 1, 0, 1, 1, 1, 0, 0, 1, 1, 1, 0, 0, 1, 0, 0, 0,\n",
              "       0, 1, 0, 1, 1, 1, 0, 0, 1, 0, 0, 1, 0, 0, 1, 0, 0, 1, 1, 1, 1, 1,\n",
              "       0, 0, 1, 0, 1, 1, 1, 1, 0, 0, 0, 0, 1, 1, 1, 1, 1, 0, 0, 1, 1, 1,\n",
              "       1, 1, 0, 0, 1, 0, 1, 1, 1, 0, 1, 0, 0, 0, 0, 0, 0, 1, 1, 1, 0, 0,\n",
              "       1, 0, 1, 1, 1, 0, 1, 0, 0, 1, 0, 1, 1, 1, 0, 1, 1, 1, 0, 1, 1, 1,\n",
              "       0, 0, 1, 1, 1, 0, 0, 0, 1, 0, 0, 1, 0, 0, 1, 1, 0, 0, 1, 1, 1, 0,\n",
              "       1, 0, 1, 0, 1, 0, 1, 1, 1, 1, 0, 1, 0, 1, 1, 0, 1, 1, 1, 0, 1, 1,\n",
              "       1, 1, 1, 0, 0, 0, 1, 1, 1, 1, 0, 0, 0, 1, 1, 1, 0, 0, 1, 1, 1, 1,\n",
              "       1, 0, 1, 1, 1, 0, 1, 1, 0, 1, 1, 0, 1, 0, 1, 1, 0, 1, 0, 1, 1, 1,\n",
              "       0, 1, 1, 0, 0, 1, 0, 1, 0, 1, 1, 1, 1, 0, 1, 1, 1, 0, 1, 0, 1, 0,\n",
              "       0, 0, 0, 0, 0, 0, 1, 0, 1, 0, 0, 0, 1, 0, 0, 1, 0, 1, 0, 1, 0, 0,\n",
              "       1, 1, 1, 0, 1, 0, 0, 1, 0, 1, 0, 1, 1, 0, 1, 0, 1, 1, 0, 0, 1, 0,\n",
              "       1, 1, 0, 1, 0, 0, 1, 1, 0, 1, 1, 1, 0, 0, 1, 1, 1, 0, 1, 0, 1, 1,\n",
              "       1, 0, 1, 1, 1, 1, 0, 1, 1, 0, 0, 0, 1, 1, 1, 0, 1, 0, 1, 1, 0, 1,\n",
              "       0, 1, 1, 1, 1, 1, 0, 1, 0, 1, 0, 1, 1, 0, 1, 1, 1, 1, 0, 0, 1, 0,\n",
              "       1, 0, 1, 1, 0])"
            ]
          },
          "execution_count": 6,
          "metadata": {},
          "output_type": "execute_result"
        }
      ],
      "source": [
        "# Target variables\n",
        "y = np.where(df['Close'].shift(-1) > df['Close'], 1, 0)\n",
        "\n",
        "# Print y\n",
        "y"
      ]
    },
    {
      "cell_type": "markdown",
      "metadata": {
        "id": "Ro11xG77xw5P"
      },
      "source": [
        "<a id='Split the data into train and test'></a> \n",
        "## Split the data into train and test\n",
        "\n",
        "We will split data into training and test datasets. This is done so that we can fit the model on the training data and test the performance on the test data.\n",
        "\n",
        "1. First, 80% of data is used for training and remaining data for testing.\n",
        "2. X_train and y_train are train datasets.\n",
        "3. X_test and y_test are test datasets."
      ]
    },
    {
      "cell_type": "code",
      "execution_count": null,
      "metadata": {
        "id": "3juxODV9xw5P"
      },
      "outputs": [],
      "source": [
        "# Define the split percentage\n",
        "split_percentage = 0.8\n",
        "split = int(split_percentage*len(df))\n",
        "\n",
        "# Train data set\n",
        "X_train = X[:split]\n",
        "y_train = y[:split]\n",
        "\n",
        "# Test data set\n",
        "X_test = X[split:]\n",
        "y_test = y[split:]"
      ]
    },
    {
      "cell_type": "markdown",
      "metadata": {
        "id": "KquY1uYdxw5P"
      },
      "source": [
        "<a id='Support Vector Classifier'></a> \n",
        "# Support Vector Classifier (SVC)\n",
        "We will use `SVC()` function from `sklearn.svm.SVC` library to create our classifier model using `fit()` method on the training dataset.\n",
        "\n",
        "Syntax:\n",
        "```python\n",
        "from sklearn.svm import SVC\n",
        "SVC().fit(X, y) \n",
        "```\n",
        "Parameters:\n",
        "\n",
        "1. **X**: Explanatory variables in the training set\n",
        "2. **y**: Target variable in the training set"
      ]
    },
    {
      "cell_type": "code",
      "execution_count": null,
      "metadata": {
        "id": "oWILcMgixw5Q"
      },
      "outputs": [],
      "source": [
        "# Support vector classifier\n",
        "cls = SVC().fit(X_train, y_train)"
      ]
    },
    {
      "cell_type": "markdown",
      "metadata": {
        "id": "jFSTxXaq4pAT"
      },
      "source": [
        "<a id='predict_signals'></a> \n",
        "# Predict Signals\n",
        "\n",
        "We will use the `predict` method on the `cls` variable to predict the signals. We will pass `X_test` as the parameter to the `predict` method. "
      ]
    },
    {
      "cell_type": "code",
      "execution_count": null,
      "metadata": {
        "id": "gklTXkz64pAT"
      },
      "outputs": [],
      "source": [
        "y_predict = cls.predict(X_test)"
      ]
    },
    {
      "cell_type": "markdown",
      "metadata": {
        "id": "zelX2Jd0xw5Q"
      },
      "source": [
        "<a id='Classifier accuracy'></a> \n",
        "# Classifier accuracy\n",
        "We will compute the accuracy of the algorithm on the train and test data set by comparing the actual values of signal with the predicted values of signal. The function `accuracy_score()` will be used to calculate the accuracy.\n",
        "\n",
        "Syntax:\n",
        "```python\n",
        "from sklearn.metrics import accuracy_score\n",
        "accuracy_score(y_true, y_predicted) \n",
        "```\n",
        "Parameters: \n",
        "\n",
        "1. **y_true**: Actual/correct labels\n",
        "\n",
        "2. **y_predicted**: Predicted labels, as returned by the classifier"
      ]
    },
    {
      "cell_type": "code",
      "execution_count": null,
      "metadata": {
        "id": "t83EISqsxw5Q",
        "outputId": "da45ec83-c50d-480a-88fc-46ead6f9e460"
      },
      "outputs": [
        {
          "name": "stdout",
          "output_type": "stream",
          "text": [
            "Accuracy: 54.32%\n"
          ]
        }
      ],
      "source": [
        "# train and test accuracy\n",
        "accuracy_test = accuracy_score(y_test, y_predict)\n",
        "\n",
        "print('Accuracy:{: .2f}%'.format(accuracy_test*100))"
      ]
    },
    {
      "cell_type": "markdown",
      "metadata": {
        "id": "DyFVBjlvxw5R"
      },
      "source": [
        "An accuracy of 50%+ in test data suggests that the classifier model is effective.\n",
        "\n",
        "<a id='Strategy implementation'></a> \n",
        "## Strategy implementation\n",
        "\n",
        "### Predict signal \n",
        "\n",
        "We will predict the signal (buy or sell) using the `cls.predict()` function.\n",
        "\n",
        "### Compute returns in test period\n",
        "\n",
        "We will predict the signals on the entire dataset `X`. And then we will compute strategy returns based on the predicted signal, and then save it in the column `cumulative_returns` and plot the cumulative returns. "
      ]
    },
    {
      "cell_type": "code",
      "execution_count": null,
      "metadata": {
        "id": "UKIrFeNAxw5R",
        "outputId": "8eb8d709-1c73-43a2-d80b-6539522d28ad"
      },
      "outputs": [
        {
          "data": {
            "image/png": "[encoded data removed]",
            "text/plain": [
              "<Figure size 1080x504 with 1 Axes>"
            ]
          },
          "metadata": {},
          "output_type": "display_data"
        }
      ],
      "source": [
        "# Predicted Signal\n",
        "df['Predicted_Signal'] = cls.predict(X)\n",
        "\n",
        "# Calculate daily returns\n",
        "df['Returns'] = df.Close.pct_change()\n",
        "\n",
        "# Calculate strategy returns\n",
        "df['Strategy_Returns'] = df.Returns * df.Predicted_Signal.shift(1)\n",
        "\n",
        "# Calculate geometric returns\n",
        "df['cumulative_returns'] = (df.Strategy_Returns.iloc[split:]+1).cumprod()\n",
        "\n",
        "# Set the title and axis labels\n",
        "plt.title(\"Cumulative Returns Plot\", fontsize=16)\n",
        "plt.ylabel(\"Cumulative Returns\")\n",
        "plt.xlabel(\"Date\")\n",
        "\n",
        "# Plot geometric returns\n",
        "df['cumulative_returns'].plot(figsize=(15, 7),color='g')\n",
        "\n",
        "plt.show()"
      ]
    },
    {
      "cell_type": "markdown",
      "metadata": {
        "id": "5n-ps0lFxw5R"
      },
      "source": [
        "As seen from the graph, the strategy generates a return of approximately 16% in the test data set.\n",
        "\n",
        "This notebook shows how you can implement the SVC strategy step by step with Python. You can train and test your model and also check the strategy implementation with a visual representation (graph).\n",
        "\n",
        "## Tweak the code\n",
        "You can tweak the code in the following ways:\n",
        "\n",
        "1. Use different datasets: Backtest and try out the model on different datasets!\n",
        "2. Features: Create your features using different indicators that could improve the prediction accuracy.\n",
        "\n",
        "In the next units, you will be able to practice some important concepts learned in this section. In the next section, you will learn Natural Language Processing (NLP) and its implementation in sentiment analysis.\n",
        "<br><br>"
      ]
    }
  ],
  "metadata": {
    "colab": {
      "collapsed_sections": [],
      "name": "Support_Vector_Classifier_Strategy.ipynb",
      "provenance": []
    },
    "kernelspec": {
      "display_name": "Python 3 (ipykernel)",
      "language": "python",
      "name": "python3"
    },
    "language_info": {
      "codemirror_mode": {
        "name": "ipython",
        "version": 3
      },
      "file_extension": ".py",
      "mimetype": "text/x-python",
      "name": "python",
      "nbconvert_exporter": "python",
      "pygments_lexer": "ipython3",
      "version": "3.9.7"
    }
  },
  "nbformat": 4,
  "nbformat_minor": 0
}